{
  "nbformat": 4,
  "nbformat_minor": 0,
  "metadata": {
    "colab": {
      "name": "Regressao01.ipynb",
      "provenance": [],
      "collapsed_sections": [],
      "authorship_tag": "ABX9TyNYpT+w9Lo9wDGcvxA8Tgsb",
      "include_colab_link": true
    },
    "kernelspec": {
      "name": "python3",
      "display_name": "Python 3"
    }
  },
  "cells": [
    {
      "cell_type": "markdown",
      "metadata": {
        "id": "view-in-github",
        "colab_type": "text"
      },
      "source": [
        "<a href=\"https://colab.research.google.com/github/tdrsph06/PowerBI-DataScience/blob/master/Regressao01.ipynb\" target=\"_parent\"><img src=\"https://colab.research.google.com/assets/colab-badge.svg\" alt=\"Open In Colab\"/></a>"
      ]
    },
    {
      "cell_type": "code",
      "metadata": {
        "id": "2_xI9HCFdg8c",
        "colab_type": "code",
        "colab": {}
      },
      "source": [
        "import numpy as np\n",
        "from sklearn import datasets, linear_model\n",
        "import matplotlib.pyplot as plt\n",
        "from sklearn.metrics import mean_squared_error, r2_score"
      ],
      "execution_count": 0,
      "outputs": []
    },
    {
      "cell_type": "code",
      "metadata": {
        "id": "MEUjMUrHeh7f",
        "colab_type": "code",
        "colab": {
          "base_uri": "https://localhost:8080/",
          "height": 265
        },
        "outputId": "b89ccd81-bd63-4ee2-e23b-6e521099a60d"
      },
      "source": [
        "production = np.array([262,170,257,235,92,289,227,234,124,188,187,534,150,160,448,290,519,176,118,270,286,381,554,279])\n",
        "consumption = np.array([315,275,500,933,143,628,823,279,141,252,237,681,187,188,184,341,598,273,224,415,361,422,797,210])\n",
        "\n",
        "plt.scatter(production, consumption, color='black')\n",
        "plt.show()"
      ],
      "execution_count": 5,
      "outputs": [
        {
          "output_type": "display_data",
          "data": {
            "image/png": "[encoded data removed]",
            "text/plain": [
              "<Figure size 432x288 with 1 Axes>"
            ]
          },
          "metadata": {
            "tags": [],
            "needs_background": "light"
          }
        }
      ]
    },
    {
      "cell_type": "code",
      "metadata": {
        "id": "WSAnqLptfWd8",
        "colab_type": "code",
        "colab": {
          "base_uri": "https://localhost:8080/",
          "height": 335
        },
        "outputId": "f9f5923d-eee9-418a-b150-fc8a324fe2ac"
      },
      "source": [
        "production = np.array([262,170,257,235,92,289,227,234,124,188,187,534,150,160,448,290,519,176,118,270,286,381,554,279])\n",
        "consumption = np.array([315,275,500,933,143,628,823,279,141,252,237,681,187,188,184,341,598,273,224,415,361,422,797,210])\n",
        "\n",
        "regr = linear_model.LinearRegression()\n",
        "regr.fit(production.reshape(-1,1),consumption)\n",
        "y = regr.predict(production.reshape(-1,1))\n",
        "\n",
        "print('Coeficients: \\n', regr.coef_)\n",
        "print('Intercept: \\n', regr.intercept_)\n",
        "\n",
        "#Plot outputs\n",
        "plt.scatter(production, consumption, color='black')\n",
        "plt.plot(production, y, color='blue', linewidth=3)\n",
        "\n",
        "plt.show()"
      ],
      "execution_count": 6,
      "outputs": [
        {
          "output_type": "stream",
          "text": [
            "Coeficients: \n",
            " [0.94917754]\n",
            "Intercept: \n",
            " 137.65785204909886\n"
          ],
          "name": "stdout"
        },
        {
          "output_type": "display_data",
          "data": {
            "image/png": "[encoded data removed]",
            "text/plain": [
              "<Figure size 432x288 with 1 Axes>"
            ]
          },
          "metadata": {
            "tags": [],
            "needs_background": "light"
          }
        }
      ]
    },
    {
      "cell_type": "code",
      "metadata": {
        "id": "3oiWMG4RglsV",
        "colab_type": "code",
        "colab": {}
      },
      "source": [
        ""
      ],
      "execution_count": 0,
      "outputs": []
    }
  ]
}